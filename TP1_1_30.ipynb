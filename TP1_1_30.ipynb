{
  "nbformat": 4,
  "nbformat_minor": 0,
  "metadata": {
    "colab": {
      "provenance": [],
      "collapsed_sections": [],
      "authorship_tag": "ABX9TyNioDDwGrZNd7a9+imeRJJz",
      "include_colab_link": true
    },
    "kernelspec": {
      "name": "python3",
      "display_name": "Python 3"
    },
    "language_info": {
      "name": "python"
    }
  },
  "cells": [
    {
      "cell_type": "markdown",
      "metadata": {
        "id": "view-in-github",
        "colab_type": "text"
      },
      "source": [
        "<a href=\"https://colab.research.google.com/github/canaranjo23/AA-IG-CamiloNaranjo/blob/main/TP1_1_30.ipynb\" target=\"_parent\"><img src=\"https://colab.research.google.com/assets/colab-badge.svg\" alt=\"Open In Colab\"/></a>"
      ]
    },
    {
      "cell_type": "code",
      "execution_count": null,
      "metadata": {
        "colab": {
          "base_uri": "https://localhost:8080/"
        },
        "id": "b5PfvPTk1_p3",
        "outputId": "a9f08298-6376-4329-b85e-6d229a5bbdc8"
      },
      "outputs": [
        {
          "output_type": "stream",
          "name": "stdout",
          "text": [
            "4\n",
            "La suma es:   4\n"
          ]
        }
      ],
      "source": [
        "# Librerias\n",
        "import numpy as np\n",
        "\n",
        "a = 2+2\n",
        "print(a)\n",
        "\n",
        "print('La suma es:  ', a)"
      ]
    }
  ]
}