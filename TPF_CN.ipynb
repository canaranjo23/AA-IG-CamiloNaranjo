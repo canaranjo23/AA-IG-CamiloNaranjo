{
  "nbformat": 4,
  "nbformat_minor": 0,
  "metadata": {
    "colab": {
      "provenance": [],
      "toc_visible": true,
      "authorship_tag": "ABX9TyNmXj6Uyx6VT1g1f1OWHa/8",
      "include_colab_link": true
    },
    "kernelspec": {
      "name": "python3",
      "display_name": "Python 3"
    },
    "language_info": {
      "name": "python"
    }
  },
  "cells": [
    {
      "cell_type": "markdown",
      "metadata": {
        "id": "view-in-github",
        "colab_type": "text"
      },
      "source": [
        "<a href=\"https://colab.research.google.com/github/canaranjo23/AA-IG-CamiloNaranjo/blob/main/TPF_CN.ipynb\" target=\"_parent\"><img src=\"https://colab.research.google.com/assets/colab-badge.svg\" alt=\"Open In Colab\"/></a>"
      ]
    },
    {
      "cell_type": "markdown",
      "source": [
        "#**Proyecto Integrador** \n",
        "\n",
        "*Curso: Aprendizaje Automático - Instituto Gulich - 2022*\n",
        "\n",
        "---\n",
        "\n",
        "###**Detección de Nubes de Ceniza Volcánica cond Aprendizaje Automático**\n",
        "\n",
        "Camilo Naranjo "
      ],
      "metadata": {
        "id": "0xfmxXXcO8tZ"
      }
    },
    {
      "cell_type": "code",
      "source": [],
      "metadata": {
        "id": "iVEIjs7mRaGp"
      },
      "execution_count": null,
      "outputs": []
    }
  ]
}